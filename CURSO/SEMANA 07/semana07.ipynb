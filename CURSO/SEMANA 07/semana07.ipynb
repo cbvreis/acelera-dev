{
 "cells": [
  {
   "cell_type": "code",
   "execution_count": 9,
   "metadata": {
    "collapsed": true
   },
   "outputs": [],
   "source": [
    "import pandas as pd\n",
    "import numpy as np\n",
    "import seaborn as sns"
   ]
  },
  {
   "cell_type": "code",
   "execution_count": 10,
   "outputs": [
    {
     "name": "stdout",
     "output_type": "stream",
     "text": [
      "Requirement already satisfied: seaborn in /home/cassio/PycharmProjects/acelera-dev/venv/lib/python3.8/site-packages (0.11.2)\r\n",
      "Requirement already satisfied: scipy>=1.0 in /home/cassio/PycharmProjects/acelera-dev/venv/lib/python3.8/site-packages (from seaborn) (1.7.1)\r\n",
      "Requirement already satisfied: pandas>=0.23 in /home/cassio/PycharmProjects/acelera-dev/venv/lib/python3.8/site-packages (from seaborn) (1.3.2)\r\n",
      "Requirement already satisfied: matplotlib>=2.2 in /home/cassio/PycharmProjects/acelera-dev/venv/lib/python3.8/site-packages (from seaborn) (3.4.3)\r\n",
      "Requirement already satisfied: numpy>=1.15 in /home/cassio/PycharmProjects/acelera-dev/venv/lib/python3.8/site-packages (from seaborn) (1.21.2)\r\n",
      "Requirement already satisfied: python-dateutil>=2.7 in /home/cassio/PycharmProjects/acelera-dev/venv/lib/python3.8/site-packages (from matplotlib>=2.2->seaborn) (2.8.2)\r\n",
      "Requirement already satisfied: pyparsing>=2.2.1 in /home/cassio/PycharmProjects/acelera-dev/venv/lib/python3.8/site-packages (from matplotlib>=2.2->seaborn) (2.4.7)\r\n",
      "Requirement already satisfied: kiwisolver>=1.0.1 in /home/cassio/PycharmProjects/acelera-dev/venv/lib/python3.8/site-packages (from matplotlib>=2.2->seaborn) (1.3.2)\r\n",
      "Requirement already satisfied: cycler>=0.10 in /home/cassio/PycharmProjects/acelera-dev/venv/lib/python3.8/site-packages (from matplotlib>=2.2->seaborn) (0.10.0)\r\n",
      "Requirement already satisfied: pillow>=6.2.0 in /home/cassio/PycharmProjects/acelera-dev/venv/lib/python3.8/site-packages (from matplotlib>=2.2->seaborn) (8.3.2)\r\n",
      "Requirement already satisfied: six in /home/cassio/PycharmProjects/acelera-dev/venv/lib/python3.8/site-packages (from cycler>=0.10->matplotlib>=2.2->seaborn) (1.16.0)\r\n",
      "Requirement already satisfied: pytz>=2017.3 in /home/cassio/PycharmProjects/acelera-dev/venv/lib/python3.8/site-packages (from pandas>=0.23->seaborn) (2021.1)\r\n"
     ]
    }
   ],
   "source": [
    "!pip install seaborn\n",
    "\n"
   ],
   "metadata": {
    "collapsed": false,
    "pycharm": {
     "name": "#%%\n"
    }
   }
  },
  {
   "cell_type": "code",
   "execution_count": 13,
   "outputs": [
    {
     "name": "stdout",
     "output_type": "stream",
     "text": [
      "Collecting catboost\r\n",
      "  Downloading catboost-0.26.1-cp38-none-manylinux1_x86_64.whl (67.4 MB)\r\n",
      "\u001B[K     |████████████████████████████████| 67.4 MB 222 kB/s eta 0:00:01\r\n",
      "\u001B[?25hCollecting graphviz\r\n",
      "  Downloading graphviz-0.17-py3-none-any.whl (18 kB)\r\n",
      "Requirement already satisfied: scipy in /home/cassio/PycharmProjects/acelera-dev/venv/lib/python3.8/site-packages (from catboost) (1.7.1)\r\n",
      "Requirement already satisfied: matplotlib in /home/cassio/PycharmProjects/acelera-dev/venv/lib/python3.8/site-packages (from catboost) (3.4.3)\r\n",
      "Requirement already satisfied: numpy>=1.16.0 in /home/cassio/PycharmProjects/acelera-dev/venv/lib/python3.8/site-packages (from catboost) (1.21.2)\r\n",
      "Requirement already satisfied: six in /home/cassio/PycharmProjects/acelera-dev/venv/lib/python3.8/site-packages (from catboost) (1.16.0)\r\n",
      "Collecting plotly\r\n",
      "  Downloading plotly-5.3.1-py2.py3-none-any.whl (23.9 MB)\r\n",
      "\u001B[K     |████████████████████████████████| 23.9 MB 6.4 MB/s eta 0:00:01\r\n",
      "\u001B[?25hRequirement already satisfied: pandas>=0.24.0 in /home/cassio/PycharmProjects/acelera-dev/venv/lib/python3.8/site-packages (from catboost) (1.3.2)\r\n",
      "Requirement already satisfied: pytz>=2017.3 in /home/cassio/PycharmProjects/acelera-dev/venv/lib/python3.8/site-packages (from pandas>=0.24.0->catboost) (2021.1)\r\n",
      "Requirement already satisfied: python-dateutil>=2.7.3 in /home/cassio/PycharmProjects/acelera-dev/venv/lib/python3.8/site-packages (from pandas>=0.24.0->catboost) (2.8.2)\r\n",
      "Requirement already satisfied: kiwisolver>=1.0.1 in /home/cassio/PycharmProjects/acelera-dev/venv/lib/python3.8/site-packages (from matplotlib->catboost) (1.3.2)\r\n",
      "Requirement already satisfied: pyparsing>=2.2.1 in /home/cassio/PycharmProjects/acelera-dev/venv/lib/python3.8/site-packages (from matplotlib->catboost) (2.4.7)\r\n",
      "Requirement already satisfied: pillow>=6.2.0 in /home/cassio/PycharmProjects/acelera-dev/venv/lib/python3.8/site-packages (from matplotlib->catboost) (8.3.2)\r\n",
      "Requirement already satisfied: cycler>=0.10 in /home/cassio/PycharmProjects/acelera-dev/venv/lib/python3.8/site-packages (from matplotlib->catboost) (0.10.0)\r\n",
      "Collecting tenacity>=6.2.0\r\n",
      "  Downloading tenacity-8.0.1-py3-none-any.whl (24 kB)\r\n",
      "Installing collected packages: tenacity, plotly, graphviz, catboost\r\n",
      "Successfully installed catboost-0.26.1 graphviz-0.17 plotly-5.3.1 tenacity-8.0.1\r\n"
     ]
    }
   ],
   "source": [
    "! pip install catboost"
   ],
   "metadata": {
    "collapsed": false,
    "pycharm": {
     "name": "#%%\n"
    }
   }
  },
  {
   "cell_type": "markdown",
   "source": [],
   "metadata": {
    "collapsed": false
   }
  }
 ],
 "metadata": {
  "kernelspec": {
   "display_name": "Python 3",
   "language": "python",
   "name": "python3"
  },
  "language_info": {
   "codemirror_mode": {
    "name": "ipython",
    "version": 2
   },
   "file_extension": ".py",
   "mimetype": "text/x-python",
   "name": "python",
   "nbconvert_exporter": "python",
   "pygments_lexer": "ipython2",
   "version": "2.7.6"
  }
 },
 "nbformat": 4,
 "nbformat_minor": 0
}