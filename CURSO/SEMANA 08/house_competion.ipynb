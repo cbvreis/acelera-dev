{
 "cells": [
  {
   "cell_type": "code",
   "execution_count": 164,
   "metadata": {
    "collapsed": true
   },
   "outputs": [],
   "source": [
    "import pandas as pd\n",
    "from sklearn.ensemble import AdaBoostRegressor\n",
    "from sklearn.model_selection import train_test_split\n",
    "from sklearn.metrics import mean_absolute_error\n",
    "from sklearn.tree import DecisionTreeRegressor\n",
    "from sklearn import metrics\n",
    "import numpy as np"
   ]
  },
  {
   "cell_type": "markdown",
   "source": [
    "## DecisionTreeRegressor"
   ],
   "metadata": {
    "collapsed": false,
    "pycharm": {
     "name": "#%% md\n"
    }
   }
  },
  {
   "cell_type": "markdown",
   "source": [
    "Treinando o modelo\n"
   ],
   "metadata": {
    "collapsed": false,
    "pycharm": {
     "name": "#%% md\n"
    }
   }
  },
  {
   "cell_type": "code",
   "execution_count": 179,
   "outputs": [],
   "source": [
    "df_train = pd.read_csv('data/train.csv')\n",
    "X_train = df_train[['GrLivArea','OverallQual']]\n",
    "#X_train = pd.get_dummies(X_train, columns = ['OverallQual'],prefix='OverallQual')\n",
    "y_train = df_train['SalePrice']\n",
    "X_train, X_test, y_train, y_test = train_test_split(X_train, y_train, test_size=0.33, random_state=42)"
   ],
   "metadata": {
    "collapsed": false,
    "pycharm": {
     "name": "#%%\n"
    }
   }
  },
  {
   "cell_type": "code",
   "execution_count": 165,
   "outputs": [],
   "source": [],
   "metadata": {
    "collapsed": false,
    "pycharm": {
     "name": "#%%\n"
    }
   }
  },
  {
   "cell_type": "markdown",
   "source": [
    "Treinando o modelo"
   ],
   "metadata": {
    "collapsed": false
   }
  },
  {
   "cell_type": "code",
   "execution_count": 166,
   "outputs": [
    {
     "name": "stdout",
     "output_type": "stream",
     "text": [
      "Modelo AdaBoost Score= 98.14086066841958\n"
     ]
    }
   ],
   "source": [
    "reg = DecisionTreeRegressor()\n",
    "reg.fit(X_train,y_train)\n",
    "print(f'Modelo AdaBoost Score= {100*reg.score(X_train, y_train)}')"
   ],
   "metadata": {
    "collapsed": false,
    "pycharm": {
     "name": "#%%\n"
    }
   }
  },
  {
   "cell_type": "markdown",
   "source": [
    "Realizando predicted"
   ],
   "metadata": {
    "collapsed": false
   }
  },
  {
   "cell_type": "code",
   "source": [
    "y_predict = reg.predict(X_test)\n",
    "\n",
    "print('MAE:', metrics.mean_absolute_error(y_test,y_predict))\n",
    "print('MSE:', metrics.mean_squared_error(y_test, y_predict))\n",
    "print('RMSE:', np.sqrt(metrics.mean_squared_error(y_test, y_predict)))\n"
   ],
   "metadata": {
    "collapsed": false,
    "pycharm": {
     "name": "#%%\n"
    }
   },
   "execution_count": 167,
   "outputs": [
    {
     "name": "stdout",
     "output_type": "stream",
     "text": [
      "MAE: 34566.616182572616\n",
      "MSE: 3450207115.7294836\n",
      "RMSE: 58738.463682066824\n"
     ]
    }
   ]
  },
  {
   "cell_type": "markdown",
   "source": [
    "Utilizando GridSearchCV para Parâmetros"
   ],
   "metadata": {
    "collapsed": false,
    "pycharm": {
     "name": "#%% md\n"
    }
   }
  },
  {
   "cell_type": "code",
   "execution_count": 183,
   "outputs": [],
   "source": [
    "parameters={\"splitter\":[\"best\",\"random\"],\n",
    "            \"max_depth\" : [1,3,5,7,9,11,12],\n",
    "           \"min_samples_leaf\":[1,2,3,4,5,6,7,8,9,10],\n",
    "           \"min_weight_fraction_leaf\":[0.1,0.2,0.3,0.4,0.5,0.6,0.7,0.8,0.9],\n",
    "           \"max_features\":[\"auto\",\"log2\",\"sqrt\",None] ,\n",
    "           \"max_leaf_nodes\":[None,10,20,30,40,50,60,70,80,90] }\n",
    "\n",
    "from sklearn.model_selection import GridSearchCV\n",
    "tuning_model=GridSearchCV(reg,param_grid=parameters,scoring='neg_mean_squared_error',cv=3,verbose=3)\n",
    "tuning_model.fit(X_train,y_train)"
   ],
   "metadata": {
    "collapsed": false,
    "pycharm": {
     "name": "#%%\n"
    }
   }
  },
  {
   "cell_type": "code",
   "source": [
    "tuning_model.best_params_\n"
   ],
   "metadata": {
    "collapsed": false,
    "pycharm": {
     "name": "#%%\n"
    }
   },
   "execution_count": 169,
   "outputs": [
    {
     "data": {
      "text/plain": "{'max_depth': 11,\n 'max_features': 'log2',\n 'max_leaf_nodes': None,\n 'min_samples_leaf': 8,\n 'min_weight_fraction_leaf': 0.1,\n 'splitter': 'best'}"
     },
     "execution_count": 169,
     "metadata": {},
     "output_type": "execute_result"
    }
   ]
  },
  {
   "cell_type": "code",
   "execution_count": 180,
   "outputs": [
    {
     "name": "stdout",
     "output_type": "stream",
     "text": [
      "Modelo AdaBoost Score= 62.34112910831524\n"
     ]
    }
   ],
   "source": [
    "reg = DecisionTreeRegressor(max_depth= 11,\n",
    "             max_features= 'log2',\n",
    "             max_leaf_nodes= None,\n",
    "             min_samples_leaf= 8,\n",
    "             min_weight_fraction_leaf= 0.1,\n",
    "             splitter= 'best')\n",
    "reg.fit(X_train,y_train)\n",
    "print(f'Modelo AdaBoost Score= {100*reg.score(X_train, y_train)}')"
   ],
   "metadata": {
    "collapsed": false,
    "pycharm": {
     "name": "#%%\n"
    }
   }
  },
  {
   "cell_type": "code",
   "execution_count": 181,
   "outputs": [
    {
     "name": "stdout",
     "output_type": "stream",
     "text": [
      "MAE: 33304.64246002283\n",
      "MSE: 2880387559.7162366\n",
      "RMSE: 53669.24221298673\n"
     ]
    }
   ],
   "source": [
    "y_predict = reg.predict(X_test)\n",
    "print('MAE:', metrics.mean_absolute_error(y_test,y_predict))\n",
    "print('MSE:', metrics.mean_squared_error(y_test, y_predict))\n",
    "print('RMSE:', np.sqrt(metrics.mean_squared_error(y_test, y_predict)))\n",
    "\n",
    "\n"
   ],
   "metadata": {
    "collapsed": false,
    "pycharm": {
     "name": "#%%\n"
    }
   }
  },
  {
   "cell_type": "markdown",
   "source": [
    "## Enviando submissão"
   ],
   "metadata": {
    "collapsed": false
   }
  },
  {
   "cell_type": "code",
   "execution_count": 182,
   "outputs": [],
   "source": [
    "df_test = pd.read_csv('data/test.csv')\n",
    "X_test = df_test[['GrLivArea','OverallQual']]\n",
    "#X_test = pd.get_dummies(X_test, columns = ['OverallQual'],prefix='OverallQual')\n",
    "y_predict = reg.predict(X_test)\n",
    "\n",
    "dict = {\n",
    "    'Id' : df_test.Id,\n",
    "    'SalePrice' : y_predict\n",
    "}\n",
    "df = pd.DataFrame(dict)\n",
    "df.to_csv('predicted.csv',index=False)"
   ],
   "metadata": {
    "collapsed": false,
    "pycharm": {
     "name": "#%%\n"
    }
   }
  }
 ],
 "metadata": {
  "kernelspec": {
   "name": "pycharm-263b50fb",
   "language": "python",
   "display_name": "PyCharm (ACELERA-DEV)"
  },
  "language_info": {
   "codemirror_mode": {
    "name": "ipython",
    "version": 2
   },
   "file_extension": ".py",
   "mimetype": "text/x-python",
   "name": "python",
   "nbconvert_exporter": "python",
   "pygments_lexer": "ipython2",
   "version": "2.7.6"
  }
 },
 "nbformat": 4,
 "nbformat_minor": 0
}